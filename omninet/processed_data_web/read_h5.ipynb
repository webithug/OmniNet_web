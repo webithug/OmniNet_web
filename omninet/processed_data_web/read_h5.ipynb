{
 "cells": [
  {
   "cell_type": "markdown",
   "metadata": {},
   "source": [
    "# Give file path to .h5 and read it"
   ]
  },
  {
   "cell_type": "code",
   "execution_count": 3,
   "metadata": {},
   "outputs": [
    {
     "name": "stdout",
     "output_type": "stream",
     "text": [
      "Keys in the HDF5 file: ['INPUTS', 'TARGETS']\n",
      "INPUTS: <HDF5 group \"/INPUTS\" (1 members)>\n",
      "INPUTS/Source: <HDF5 group \"/INPUTS/Source\" (6 members)>\n",
      "INPUTS/Source/MASK: <HDF5 dataset \"MASK\": shape (10000, 10), type \"|b1\">\n",
      "INPUTS/Source/btag: <HDF5 dataset \"btag\": shape (10000, 10), type \"<f4\">\n",
      "INPUTS/Source/eta: <HDF5 dataset \"eta\": shape (10000, 10), type \"<f4\">\n",
      "INPUTS/Source/mass: <HDF5 dataset \"mass\": shape (10000, 10), type \"<f4\">\n",
      "INPUTS/Source/phi: <HDF5 dataset \"phi\": shape (10000, 10), type \"<f4\">\n",
      "INPUTS/Source/pt: <HDF5 dataset \"pt\": shape (10000, 10), type \"<f4\">\n",
      "TARGETS: <HDF5 group \"/TARGETS\" (2 members)>\n",
      "TARGETS/t1: <HDF5 group \"/TARGETS/t1\" (3 members)>\n",
      "TARGETS/t1/b: <HDF5 dataset \"b\": shape (10000,), type \"<i8\">\n",
      "TARGETS/t1/q1: <HDF5 dataset \"q1\": shape (10000,), type \"<i8\">\n",
      "TARGETS/t1/q2: <HDF5 dataset \"q2\": shape (10000,), type \"<i8\">\n",
      "TARGETS/t2: <HDF5 group \"/TARGETS/t2\" (3 members)>\n",
      "TARGETS/t2/b: <HDF5 dataset \"b\": shape (10000,), type \"<i8\">\n",
      "TARGETS/t2/q1: <HDF5 dataset \"q1\": shape (10000,), type \"<i8\">\n",
      "TARGETS/t2/q2: <HDF5 dataset \"q2\": shape (10000,), type \"<i8\">\n",
      "First 10 entries of t1_b dataset:\n",
      " [2 2 0 2 1 3 3 2 4 3]\n",
      "First 10 entries of t2_b dataset:\n",
      " [ 3  1  4  1  0  2  5 -1  5  2]\n"
     ]
    }
   ],
   "source": [
    "import h5py\n",
    "import numpy as np\n",
    "\n",
    "# Open the .h5 file in read mode ('r')\n",
    "file_path = '/global/homes/w/weipow/OmniNet_web/data/full_hadronic_ttbar/example.h5'\n",
    "with h5py.File(file_path, 'r') as f:\n",
    "    \n",
    "    # List all datasets in the file\n",
    "    file_keys = list(f.keys())\n",
    "    print(\"Keys in the HDF5 file:\", file_keys)\n",
    "\n",
    "    def print_structure(name, obj):\n",
    "        print(f\"{name}: {obj}\")\n",
    "\n",
    "    f.visititems(print_structure)\n",
    "\n",
    "    t1_b_data = f['TARGETS/t1/b'][:]\n",
    "    t2_b_data = f['TARGETS/t2/b'][:]\n",
    "    \n",
    "    # Print the shape and a portion of the data\n",
    "    print(\"First 10 entries of t1_b dataset:\\n\", t1_b_data[:10])\n",
    "    print(\"First 10 entries of t2_b dataset:\\n\", t2_b_data[:10])\n",
    "\n",
    "    # for dataset_name in file_keys:\n",
    "\n",
    "    #     # Access a dataset\n",
    "    #     dataset = f[dataset_name]\n",
    "        \n",
    "    #     # Read the data into a NumPy array\n",
    "    #     data = dataset[:]\n",
    "        \n",
    "    #     print(f\"{dataset_name} shape:\", data.shape)\n",
    "    #     # print(f\"{dataset_name} contents:\", data)\n",
    "\n",
    "    #     # Check for NaN and inf values\n",
    "    #     has_nan = np.isnan(data).any()\n",
    "    #     has_inf = np.isinf(data).any()\n",
    "    #     # Output the results\n",
    "    #     if has_nan:\n",
    "    #         print(\"YES NaN values.\")\n",
    "    #     else:\n",
    "    #         print(\"No NaN values.\")\n",
    "\n",
    "    #     if has_inf:\n",
    "    #         print(\"YES inf values.\")\n",
    "    #     else:\n",
    "    #         print(\"No inf values.\")\n",
    "\n",
    "    "
   ]
  },
  {
   "cell_type": "code",
   "execution_count": 8,
   "metadata": {},
   "outputs": [
    {
     "name": "stdout",
     "output_type": "stream",
     "text": [
      "Keys in the HDF5 file: ['INPUTS', 'TARGETS']\n",
      "INPUTS: <HDF5 group \"/INPUTS\" (1 members)>\n",
      "INPUTS/Source: <HDF5 group \"/INPUTS/Source\" (6 members)>\n",
      "INPUTS/Source/MASK: <HDF5 dataset \"MASK\": shape (8717, 10), type \"|b1\">\n",
      "INPUTS/Source/btag: <HDF5 dataset \"btag\": shape (8717, 10), type \"<f4\">\n",
      "INPUTS/Source/eta: <HDF5 dataset \"eta\": shape (8717, 10), type \"<f4\">\n",
      "INPUTS/Source/mass: <HDF5 dataset \"mass\": shape (8717, 10), type \"<f4\">\n",
      "INPUTS/Source/phi: <HDF5 dataset \"phi\": shape (8717, 10), type \"<f4\">\n",
      "INPUTS/Source/pt: <HDF5 dataset \"pt\": shape (8717, 10), type \"<f4\">\n",
      "TARGETS: <HDF5 group \"/TARGETS\" (2 members)>\n",
      "TARGETS/t1: <HDF5 group \"/TARGETS/t1\" (3 members)>\n",
      "TARGETS/t1/b: <HDF5 dataset \"b\": shape (8717,), type \"<i8\">\n",
      "TARGETS/t1/q1: <HDF5 dataset \"q1\": shape (8717,), type \"<i8\">\n",
      "TARGETS/t1/q2: <HDF5 dataset \"q2\": shape (8717,), type \"<i8\">\n",
      "TARGETS/t2: <HDF5 group \"/TARGETS/t2\" (3 members)>\n",
      "TARGETS/t2/b: <HDF5 dataset \"b\": shape (8717,), type \"<i8\">\n",
      "TARGETS/t2/q1: <HDF5 dataset \"q1\": shape (8717,), type \"<i8\">\n",
      "TARGETS/t2/q2: <HDF5 dataset \"q2\": shape (8717,), type \"<i8\">\n",
      "First 10 entries of t1_b dataset:\n",
      " [ 0  5  1  2  4  0 -1 -1  1  2]\n",
      "First 10 entries of t2_b dataset:\n",
      " [ 1  4  5  1  0  7  4  2 -1  5]\n"
     ]
    }
   ],
   "source": [
    "# read my processed data\n",
    "\n",
    "# Open the .h5 file in read mode ('r')\n",
    "# file_path = '/pscratch/sd/w/weipow/OmniNet_Data/TTHadronics_87670000_omninet.h5'\n",
    "file_path = '/pscratch/sd/w/weipow/OmniNet_Data/TTHadronics_367772000_omninet_10jets.h5'\n",
    "with h5py.File(file_path, 'r') as f:\n",
    "    \n",
    "    # List all datasets in the file\n",
    "    file_keys = list(f.keys())\n",
    "    print(\"Keys in the HDF5 file:\", file_keys)\n",
    "\n",
    "    def print_structure(name, obj):\n",
    "        print(f\"{name}: {obj}\")\n",
    "\n",
    "    f.visititems(print_structure)\n",
    "\n",
    "    t1_b_data = f['TARGETS/t1/b'][:]\n",
    "    t2_b_data = f['TARGETS/t2/b'][:]\n",
    "    \n",
    "    # Print the shape and a portion of the data\n",
    "    print(\"First 10 entries of t1_b dataset:\\n\", t1_b_data[:10])\n",
    "    print(\"First 10 entries of t2_b dataset:\\n\", t2_b_data[:10])"
   ]
  },
  {
   "cell_type": "code",
   "execution_count": 5,
   "metadata": {},
   "outputs": [
    {
     "name": "stdout",
     "output_type": "stream",
     "text": [
      "Keys in the HDF5 file: ['els', 'event', 'genpart', 'jets', 'mus', 'phs', 'tas']\n",
      "els: <HDF5 dataset \"els\": shape (10000, 4, 5), type \"<f4\">\n",
      "event: <HDF5 dataset \"event\": shape (10000, 1, 3), type \"<f4\">\n",
      "genpart: <HDF5 dataset \"genpart\": shape (10000, 15, 10), type \"<f4\">\n",
      "jets: <HDF5 dataset \"jets\": shape (10000, 10, 7), type \"<f4\">\n",
      "mus: <HDF5 dataset \"mus\": shape (10000, 4, 5), type \"<f4\">\n",
      "phs: <HDF5 dataset \"phs\": shape (10000, 2, 4), type \"<f4\">\n",
      "tas: <HDF5 dataset \"tas\": shape (10000, 4, 5), type \"<f4\">\n",
      "genpart: (10000, 15, 10)\n",
      "genpart_index: [  0.   1. 421. 422. 528. 898. 534. 876. 685. 676. 737. 754.   0.   0.\n",
      "   0.]\n",
      "genpart_M1: [  6.   9.   0.   0. 421. 421. 422. 422. 528. 528. 534. 534.   0.   0.\n",
      "   0.]\n",
      "genpart_pid: [ 21.  21.   6.  -6.  24.   5. -24.  -5.   4.  -3.   1.  -2.   0.   0.\n",
      "   0.]\n",
      "genmatched_index: [-1. -1. -1. -1. -1.  0. -1.  1.  3.  4.  2. -1. -1. -1. -1.]\n"
     ]
    }
   ],
   "source": [
    "# read yulei data\n",
    "# Open the .h5 file in read mode ('r')\n",
    "file_path = '/global/cfs/cdirs/m2616/avencast/Event_Level_Analysis/data/run_yulei_2/TTHadronics_367772000.h5'\n",
    "# file_path = '/global/cfs/cdirs/m2616/avencast/Event_Level_Analysis/data/run_yulei_1/TTHadronics_87670000.h5'\n",
    "with h5py.File(file_path, 'r') as f:\n",
    "    \n",
    "    # List all datasets in the file\n",
    "    file_keys = list(f.keys())\n",
    "    print(\"Keys in the HDF5 file:\", file_keys)\n",
    "\n",
    "    def print_structure(name, obj):\n",
    "        print(f\"{name}: {obj}\")\n",
    "\n",
    "    f.visititems(print_structure)\n",
    "\n",
    "    print(f\"genpart: {f['genpart'].shape}\")\n",
    "\n",
    "    print(f\"genpart_index: {f['genpart'][0,:,4]}\")\n",
    "    print(f\"genpart_M1: {f['genpart'][0,:,5]}\")\n",
    "    print(f\"genpart_pid: {f['genpart'][0,:,7]}\")\n",
    "    print(f\"genmatched_index: {f['genpart'][0,:,-1]}\")"
   ]
  },
  {
   "cell_type": "markdown",
   "metadata": {},
   "source": [
    "# Shuffle Data"
   ]
  },
  {
   "cell_type": "code",
   "execution_count": 19,
   "metadata": {},
   "outputs": [
    {
     "name": "stdout",
     "output_type": "stream",
     "text": [
      "first 20 before shuffle: [1 1 1 1 1 1 1 1 1 1 1 1 1 1 1 1 1 1 1 1]\n",
      "first 20 after shuffle: [0 1 0 0 0 1 0 1 1 0 0 1 0 0 0 0 1 0 0 0]\n"
     ]
    }
   ],
   "source": [
    "# with h5py.File(file_path, 'r+') as f:\n",
    "#     # Load datasets\n",
    "#     data = f['data'][:]\n",
    "#     jet = f['jet'][:]\n",
    "#     pid = f['pid'][:]\n",
    "\n",
    "#     # Ensure all datasets have the same number of samples in the first dimension\n",
    "#     assert data.shape[0] == jet.shape[0] == pid.shape[0], \"Datasets have different lengths!\"\n",
    "    \n",
    "#     # Get the total number of samples\n",
    "#     num_samples = data.shape[0]\n",
    "\n",
    "#     # Create an index array and shuffle it\n",
    "#     indices = np.arange(num_samples)\n",
    "#     np.random.shuffle(indices)\n",
    "\n",
    "#     # Shuffle each dataset using the shuffled indices\n",
    "#     shuffled_data = data[indices]\n",
    "#     shuffled_jet = jet[indices]\n",
    "#     shuffled_pid = pid[indices]\n",
    "\n",
    "#     print(f\"first 20 before shuffle: {f['pid'][:20]}\")\n",
    "\n",
    "#     # Write shuffled data back into the HDF5 file (in-place)\n",
    "#     f['data'][:] = shuffled_data\n",
    "#     f['jet'][:] = shuffled_jet\n",
    "#     f['pid'][:] = shuffled_pid\n",
    "\n",
    "#     print(f\"first 20 after shuffle: {f['pid'][:20]}\")\n"
   ]
  }
 ],
 "metadata": {
  "kernelspec": {
   "display_name": "Python 3",
   "language": "python",
   "name": "python3"
  },
  "language_info": {
   "codemirror_mode": {
    "name": "ipython",
    "version": 3
   },
   "file_extension": ".py",
   "mimetype": "text/x-python",
   "name": "python",
   "nbconvert_exporter": "python",
   "pygments_lexer": "ipython3",
   "version": "3.12.5"
  }
 },
 "nbformat": 4,
 "nbformat_minor": 2
}
